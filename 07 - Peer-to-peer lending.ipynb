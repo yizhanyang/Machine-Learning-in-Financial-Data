{
 "cells": [
  {
   "cell_type": "code",
   "execution_count": 1,
   "metadata": {},
   "outputs": [],
   "source": [
    "import numpy as np\n",
    "import pandas as pd\n",
    "import sklearn\n",
    "from sklearn.feature_extraction import DictVectorizer\n",
    "from sklearn.model_selection import train_test_split\n",
    "import tensorflow as tf"
   ]
  },
  {
   "cell_type": "markdown",
   "metadata": {},
   "source": [
    "# Peer-to-peer lending\n",
    "## [Lending club](https://www.lendingclub.com/)  data: https://www.kaggle.com/wendykan/lending-club-loan-data/\n",
    "## Regression problem: predicting interest rates"
   ]
  },
  {
   "cell_type": "code",
   "execution_count": 2,
   "metadata": {},
   "outputs": [],
   "source": [
    "num_examples = 30000"
   ]
  },
  {
   "cell_type": "code",
   "execution_count": 3,
   "metadata": {},
   "outputs": [
    {
     "name": "stderr",
     "output_type": "stream",
     "text": [
      "/Users/apple/anaconda3/lib/python3.6/site-packages/IPython/core/interactiveshell.py:3020: DtypeWarning: Columns (123,124,125,128,129,130,133,139,140,141) have mixed types. Specify dtype option on import or set low_memory=False.\n",
      "  interactivity=interactivity, compiler=compiler, result=result)\n"
     ]
    }
   ],
   "source": [
    "df = pd.read_csv('loan_head.csv')"
   ]
  },
  {
   "cell_type": "code",
   "execution_count": 4,
   "metadata": {},
   "outputs": [
    {
     "data": {
      "text/html": [
       "<div>\n",
       "<style scoped>\n",
       "    .dataframe tbody tr th:only-of-type {\n",
       "        vertical-align: middle;\n",
       "    }\n",
       "\n",
       "    .dataframe tbody tr th {\n",
       "        vertical-align: top;\n",
       "    }\n",
       "\n",
       "    .dataframe thead th {\n",
       "        text-align: right;\n",
       "    }\n",
       "</style>\n",
       "<table border=\"1\" class=\"dataframe\">\n",
       "  <thead>\n",
       "    <tr style=\"text-align: right;\">\n",
       "      <th></th>\n",
       "      <th>id</th>\n",
       "      <th>member_id</th>\n",
       "      <th>loan_amnt</th>\n",
       "      <th>funded_amnt</th>\n",
       "      <th>funded_amnt_inv</th>\n",
       "      <th>term</th>\n",
       "      <th>int_rate</th>\n",
       "      <th>installment</th>\n",
       "      <th>grade</th>\n",
       "      <th>sub_grade</th>\n",
       "      <th>...</th>\n",
       "      <th>hardship_payoff_balance_amount</th>\n",
       "      <th>hardship_last_payment_amount</th>\n",
       "      <th>disbursement_method</th>\n",
       "      <th>debt_settlement_flag</th>\n",
       "      <th>debt_settlement_flag_date</th>\n",
       "      <th>settlement_status</th>\n",
       "      <th>settlement_date</th>\n",
       "      <th>settlement_amount</th>\n",
       "      <th>settlement_percentage</th>\n",
       "      <th>settlement_term</th>\n",
       "    </tr>\n",
       "  </thead>\n",
       "  <tbody>\n",
       "    <tr>\n",
       "      <th>0</th>\n",
       "      <td>NaN</td>\n",
       "      <td>NaN</td>\n",
       "      <td>2500</td>\n",
       "      <td>2500</td>\n",
       "      <td>2500</td>\n",
       "      <td>36 months</td>\n",
       "      <td>13.56</td>\n",
       "      <td>84.92</td>\n",
       "      <td>C</td>\n",
       "      <td>C1</td>\n",
       "      <td>...</td>\n",
       "      <td>NaN</td>\n",
       "      <td>NaN</td>\n",
       "      <td>Cash</td>\n",
       "      <td>N</td>\n",
       "      <td>NaN</td>\n",
       "      <td>NaN</td>\n",
       "      <td>NaN</td>\n",
       "      <td>NaN</td>\n",
       "      <td>NaN</td>\n",
       "      <td>NaN</td>\n",
       "    </tr>\n",
       "    <tr>\n",
       "      <th>1</th>\n",
       "      <td>NaN</td>\n",
       "      <td>NaN</td>\n",
       "      <td>30000</td>\n",
       "      <td>30000</td>\n",
       "      <td>30000</td>\n",
       "      <td>60 months</td>\n",
       "      <td>18.94</td>\n",
       "      <td>777.23</td>\n",
       "      <td>D</td>\n",
       "      <td>D2</td>\n",
       "      <td>...</td>\n",
       "      <td>NaN</td>\n",
       "      <td>NaN</td>\n",
       "      <td>Cash</td>\n",
       "      <td>N</td>\n",
       "      <td>NaN</td>\n",
       "      <td>NaN</td>\n",
       "      <td>NaN</td>\n",
       "      <td>NaN</td>\n",
       "      <td>NaN</td>\n",
       "      <td>NaN</td>\n",
       "    </tr>\n",
       "    <tr>\n",
       "      <th>2</th>\n",
       "      <td>NaN</td>\n",
       "      <td>NaN</td>\n",
       "      <td>5000</td>\n",
       "      <td>5000</td>\n",
       "      <td>5000</td>\n",
       "      <td>36 months</td>\n",
       "      <td>17.97</td>\n",
       "      <td>180.69</td>\n",
       "      <td>D</td>\n",
       "      <td>D1</td>\n",
       "      <td>...</td>\n",
       "      <td>NaN</td>\n",
       "      <td>NaN</td>\n",
       "      <td>Cash</td>\n",
       "      <td>N</td>\n",
       "      <td>NaN</td>\n",
       "      <td>NaN</td>\n",
       "      <td>NaN</td>\n",
       "      <td>NaN</td>\n",
       "      <td>NaN</td>\n",
       "      <td>NaN</td>\n",
       "    </tr>\n",
       "    <tr>\n",
       "      <th>3</th>\n",
       "      <td>NaN</td>\n",
       "      <td>NaN</td>\n",
       "      <td>4000</td>\n",
       "      <td>4000</td>\n",
       "      <td>4000</td>\n",
       "      <td>36 months</td>\n",
       "      <td>18.94</td>\n",
       "      <td>146.51</td>\n",
       "      <td>D</td>\n",
       "      <td>D2</td>\n",
       "      <td>...</td>\n",
       "      <td>NaN</td>\n",
       "      <td>NaN</td>\n",
       "      <td>Cash</td>\n",
       "      <td>N</td>\n",
       "      <td>NaN</td>\n",
       "      <td>NaN</td>\n",
       "      <td>NaN</td>\n",
       "      <td>NaN</td>\n",
       "      <td>NaN</td>\n",
       "      <td>NaN</td>\n",
       "    </tr>\n",
       "    <tr>\n",
       "      <th>4</th>\n",
       "      <td>NaN</td>\n",
       "      <td>NaN</td>\n",
       "      <td>30000</td>\n",
       "      <td>30000</td>\n",
       "      <td>30000</td>\n",
       "      <td>60 months</td>\n",
       "      <td>16.14</td>\n",
       "      <td>731.78</td>\n",
       "      <td>C</td>\n",
       "      <td>C4</td>\n",
       "      <td>...</td>\n",
       "      <td>NaN</td>\n",
       "      <td>NaN</td>\n",
       "      <td>Cash</td>\n",
       "      <td>N</td>\n",
       "      <td>NaN</td>\n",
       "      <td>NaN</td>\n",
       "      <td>NaN</td>\n",
       "      <td>NaN</td>\n",
       "      <td>NaN</td>\n",
       "      <td>NaN</td>\n",
       "    </tr>\n",
       "  </tbody>\n",
       "</table>\n",
       "<p>5 rows × 145 columns</p>\n",
       "</div>"
      ],
      "text/plain": [
       "   id  member_id  loan_amnt  funded_amnt  funded_amnt_inv        term  \\\n",
       "0 NaN        NaN       2500         2500             2500   36 months   \n",
       "1 NaN        NaN      30000        30000            30000   60 months   \n",
       "2 NaN        NaN       5000         5000             5000   36 months   \n",
       "3 NaN        NaN       4000         4000             4000   36 months   \n",
       "4 NaN        NaN      30000        30000            30000   60 months   \n",
       "\n",
       "   int_rate  installment grade sub_grade       ...         \\\n",
       "0     13.56        84.92     C        C1       ...          \n",
       "1     18.94       777.23     D        D2       ...          \n",
       "2     17.97       180.69     D        D1       ...          \n",
       "3     18.94       146.51     D        D2       ...          \n",
       "4     16.14       731.78     C        C4       ...          \n",
       "\n",
       "  hardship_payoff_balance_amount hardship_last_payment_amount  \\\n",
       "0                            NaN                          NaN   \n",
       "1                            NaN                          NaN   \n",
       "2                            NaN                          NaN   \n",
       "3                            NaN                          NaN   \n",
       "4                            NaN                          NaN   \n",
       "\n",
       "  disbursement_method  debt_settlement_flag debt_settlement_flag_date  \\\n",
       "0                Cash                     N                       NaN   \n",
       "1                Cash                     N                       NaN   \n",
       "2                Cash                     N                       NaN   \n",
       "3                Cash                     N                       NaN   \n",
       "4                Cash                     N                       NaN   \n",
       "\n",
       "  settlement_status settlement_date settlement_amount  settlement_percentage  \\\n",
       "0               NaN             NaN               NaN                    NaN   \n",
       "1               NaN             NaN               NaN                    NaN   \n",
       "2               NaN             NaN               NaN                    NaN   \n",
       "3               NaN             NaN               NaN                    NaN   \n",
       "4               NaN             NaN               NaN                    NaN   \n",
       "\n",
       "   settlement_term  \n",
       "0              NaN  \n",
       "1              NaN  \n",
       "2              NaN  \n",
       "3              NaN  \n",
       "4              NaN  \n",
       "\n",
       "[5 rows x 145 columns]"
      ]
     },
     "execution_count": 4,
     "metadata": {},
     "output_type": "execute_result"
    }
   ],
   "source": [
    "df.head()"
   ]
  },
  {
   "cell_type": "code",
   "execution_count": 5,
   "metadata": {},
   "outputs": [
    {
     "data": {
      "text/html": [
       "<div>\n",
       "<style scoped>\n",
       "    .dataframe tbody tr th:only-of-type {\n",
       "        vertical-align: middle;\n",
       "    }\n",
       "\n",
       "    .dataframe tbody tr th {\n",
       "        vertical-align: top;\n",
       "    }\n",
       "\n",
       "    .dataframe thead th {\n",
       "        text-align: right;\n",
       "    }\n",
       "</style>\n",
       "<table border=\"1\" class=\"dataframe\">\n",
       "  <thead>\n",
       "    <tr style=\"text-align: right;\">\n",
       "      <th></th>\n",
       "      <th>loan_amnt</th>\n",
       "      <th>funded_amnt</th>\n",
       "      <th>term</th>\n",
       "      <th>grade</th>\n",
       "      <th>emp_title</th>\n",
       "      <th>emp_length</th>\n",
       "      <th>int_rate</th>\n",
       "    </tr>\n",
       "  </thead>\n",
       "  <tbody>\n",
       "    <tr>\n",
       "      <th>0</th>\n",
       "      <td>2500</td>\n",
       "      <td>2500</td>\n",
       "      <td>36 months</td>\n",
       "      <td>C</td>\n",
       "      <td>Chef</td>\n",
       "      <td>10+ years</td>\n",
       "      <td>13.56</td>\n",
       "    </tr>\n",
       "    <tr>\n",
       "      <th>1</th>\n",
       "      <td>30000</td>\n",
       "      <td>30000</td>\n",
       "      <td>60 months</td>\n",
       "      <td>D</td>\n",
       "      <td>Postmaster</td>\n",
       "      <td>10+ years</td>\n",
       "      <td>18.94</td>\n",
       "    </tr>\n",
       "    <tr>\n",
       "      <th>2</th>\n",
       "      <td>5000</td>\n",
       "      <td>5000</td>\n",
       "      <td>36 months</td>\n",
       "      <td>D</td>\n",
       "      <td>Administrative</td>\n",
       "      <td>6 years</td>\n",
       "      <td>17.97</td>\n",
       "    </tr>\n",
       "    <tr>\n",
       "      <th>3</th>\n",
       "      <td>4000</td>\n",
       "      <td>4000</td>\n",
       "      <td>36 months</td>\n",
       "      <td>D</td>\n",
       "      <td>IT Supervisor</td>\n",
       "      <td>10+ years</td>\n",
       "      <td>18.94</td>\n",
       "    </tr>\n",
       "    <tr>\n",
       "      <th>4</th>\n",
       "      <td>30000</td>\n",
       "      <td>30000</td>\n",
       "      <td>60 months</td>\n",
       "      <td>C</td>\n",
       "      <td>Mechanic</td>\n",
       "      <td>10+ years</td>\n",
       "      <td>16.14</td>\n",
       "    </tr>\n",
       "  </tbody>\n",
       "</table>\n",
       "</div>"
      ],
      "text/plain": [
       "   loan_amnt  funded_amnt        term grade       emp_title emp_length  \\\n",
       "0       2500         2500   36 months     C            Chef  10+ years   \n",
       "1      30000        30000   60 months     D     Postmaster   10+ years   \n",
       "2       5000         5000   36 months     D  Administrative    6 years   \n",
       "3       4000         4000   36 months     D   IT Supervisor  10+ years   \n",
       "4      30000        30000   60 months     C        Mechanic  10+ years   \n",
       "\n",
       "   int_rate  \n",
       "0     13.56  \n",
       "1     18.94  \n",
       "2     17.97  \n",
       "3     18.94  \n",
       "4     16.14  "
      ]
     },
     "execution_count": 5,
     "metadata": {},
     "output_type": "execute_result"
    }
   ],
   "source": [
    "# keep only the columns we are interested in\n",
    "df1 = df.loc[:, ['loan_amnt', 'funded_amnt', 'term', 'grade', 'emp_title', 'emp_length', 'int_rate']]\n",
    "df1.head()"
   ]
  },
  {
   "cell_type": "markdown",
   "metadata": {},
   "source": [
    "### Drop rows with missing values\n",
    "Sometimes the fact that a value is missing can be also important, and sometimes we have to keep these rows and impute the missing values. Here we just drop missing values to make our life simpler."
   ]
  },
  {
   "cell_type": "code",
   "execution_count": 6,
   "metadata": {},
   "outputs": [
    {
     "data": {
      "text/plain": [
       "(99999, 7)"
      ]
     },
     "execution_count": 6,
     "metadata": {},
     "output_type": "execute_result"
    }
   ],
   "source": [
    "df1.shape"
   ]
  },
  {
   "cell_type": "code",
   "execution_count": 7,
   "metadata": {},
   "outputs": [
    {
     "data": {
      "text/html": [
       "<div>\n",
       "<style scoped>\n",
       "    .dataframe tbody tr th:only-of-type {\n",
       "        vertical-align: middle;\n",
       "    }\n",
       "\n",
       "    .dataframe tbody tr th {\n",
       "        vertical-align: top;\n",
       "    }\n",
       "\n",
       "    .dataframe thead th {\n",
       "        text-align: right;\n",
       "    }\n",
       "</style>\n",
       "<table border=\"1\" class=\"dataframe\">\n",
       "  <thead>\n",
       "    <tr style=\"text-align: right;\">\n",
       "      <th></th>\n",
       "      <th>loan_amnt</th>\n",
       "      <th>funded_amnt</th>\n",
       "      <th>term</th>\n",
       "      <th>grade</th>\n",
       "      <th>emp_title</th>\n",
       "      <th>emp_length</th>\n",
       "      <th>int_rate</th>\n",
       "    </tr>\n",
       "  </thead>\n",
       "  <tbody>\n",
       "    <tr>\n",
       "      <th>0</th>\n",
       "      <td>True</td>\n",
       "      <td>True</td>\n",
       "      <td>True</td>\n",
       "      <td>True</td>\n",
       "      <td>True</td>\n",
       "      <td>True</td>\n",
       "      <td>True</td>\n",
       "    </tr>\n",
       "    <tr>\n",
       "      <th>1</th>\n",
       "      <td>True</td>\n",
       "      <td>True</td>\n",
       "      <td>True</td>\n",
       "      <td>True</td>\n",
       "      <td>True</td>\n",
       "      <td>True</td>\n",
       "      <td>True</td>\n",
       "    </tr>\n",
       "    <tr>\n",
       "      <th>2</th>\n",
       "      <td>True</td>\n",
       "      <td>True</td>\n",
       "      <td>True</td>\n",
       "      <td>True</td>\n",
       "      <td>True</td>\n",
       "      <td>True</td>\n",
       "      <td>True</td>\n",
       "    </tr>\n",
       "    <tr>\n",
       "      <th>3</th>\n",
       "      <td>True</td>\n",
       "      <td>True</td>\n",
       "      <td>True</td>\n",
       "      <td>True</td>\n",
       "      <td>True</td>\n",
       "      <td>True</td>\n",
       "      <td>True</td>\n",
       "    </tr>\n",
       "    <tr>\n",
       "      <th>4</th>\n",
       "      <td>True</td>\n",
       "      <td>True</td>\n",
       "      <td>True</td>\n",
       "      <td>True</td>\n",
       "      <td>True</td>\n",
       "      <td>True</td>\n",
       "      <td>True</td>\n",
       "    </tr>\n",
       "    <tr>\n",
       "      <th>5</th>\n",
       "      <td>True</td>\n",
       "      <td>True</td>\n",
       "      <td>True</td>\n",
       "      <td>True</td>\n",
       "      <td>True</td>\n",
       "      <td>True</td>\n",
       "      <td>True</td>\n",
       "    </tr>\n",
       "    <tr>\n",
       "      <th>6</th>\n",
       "      <td>True</td>\n",
       "      <td>True</td>\n",
       "      <td>True</td>\n",
       "      <td>True</td>\n",
       "      <td>True</td>\n",
       "      <td>True</td>\n",
       "      <td>True</td>\n",
       "    </tr>\n",
       "    <tr>\n",
       "      <th>7</th>\n",
       "      <td>True</td>\n",
       "      <td>True</td>\n",
       "      <td>True</td>\n",
       "      <td>True</td>\n",
       "      <td>True</td>\n",
       "      <td>True</td>\n",
       "      <td>True</td>\n",
       "    </tr>\n",
       "    <tr>\n",
       "      <th>8</th>\n",
       "      <td>True</td>\n",
       "      <td>True</td>\n",
       "      <td>True</td>\n",
       "      <td>True</td>\n",
       "      <td>True</td>\n",
       "      <td>True</td>\n",
       "      <td>True</td>\n",
       "    </tr>\n",
       "    <tr>\n",
       "      <th>9</th>\n",
       "      <td>True</td>\n",
       "      <td>True</td>\n",
       "      <td>True</td>\n",
       "      <td>True</td>\n",
       "      <td>False</td>\n",
       "      <td>True</td>\n",
       "      <td>True</td>\n",
       "    </tr>\n",
       "  </tbody>\n",
       "</table>\n",
       "</div>"
      ],
      "text/plain": [
       "   loan_amnt  funded_amnt  term  grade  emp_title  emp_length  int_rate\n",
       "0       True         True  True   True       True        True      True\n",
       "1       True         True  True   True       True        True      True\n",
       "2       True         True  True   True       True        True      True\n",
       "3       True         True  True   True       True        True      True\n",
       "4       True         True  True   True       True        True      True\n",
       "5       True         True  True   True       True        True      True\n",
       "6       True         True  True   True       True        True      True\n",
       "7       True         True  True   True       True        True      True\n",
       "8       True         True  True   True       True        True      True\n",
       "9       True         True  True   True      False        True      True"
      ]
     },
     "execution_count": 7,
     "metadata": {},
     "output_type": "execute_result"
    }
   ],
   "source": [
    "df1.notna()[:10]"
   ]
  },
  {
   "cell_type": "code",
   "execution_count": 8,
   "metadata": {},
   "outputs": [],
   "source": [
    "# dropping rows with missing values\n",
    "df2 = df1.dropna()"
   ]
  },
  {
   "cell_type": "code",
   "execution_count": 21,
   "metadata": {},
   "outputs": [
    {
     "data": {
      "text/html": [
       "<div>\n",
       "<style scoped>\n",
       "    .dataframe tbody tr th:only-of-type {\n",
       "        vertical-align: middle;\n",
       "    }\n",
       "\n",
       "    .dataframe tbody tr th {\n",
       "        vertical-align: top;\n",
       "    }\n",
       "\n",
       "    .dataframe thead th {\n",
       "        text-align: right;\n",
       "    }\n",
       "</style>\n",
       "<table border=\"1\" class=\"dataframe\">\n",
       "  <thead>\n",
       "    <tr style=\"text-align: right;\">\n",
       "      <th></th>\n",
       "      <th>loan_amnt</th>\n",
       "      <th>funded_amnt</th>\n",
       "      <th>term</th>\n",
       "      <th>grade</th>\n",
       "      <th>emp_title</th>\n",
       "      <th>emp_length</th>\n",
       "      <th>int_rate</th>\n",
       "    </tr>\n",
       "  </thead>\n",
       "  <tbody>\n",
       "    <tr>\n",
       "      <th>0</th>\n",
       "      <td>2500</td>\n",
       "      <td>2500</td>\n",
       "      <td>36 months</td>\n",
       "      <td>C</td>\n",
       "      <td>Chef</td>\n",
       "      <td>10+ years</td>\n",
       "      <td>13.56</td>\n",
       "    </tr>\n",
       "    <tr>\n",
       "      <th>1</th>\n",
       "      <td>30000</td>\n",
       "      <td>30000</td>\n",
       "      <td>60 months</td>\n",
       "      <td>D</td>\n",
       "      <td>Postmaster</td>\n",
       "      <td>10+ years</td>\n",
       "      <td>18.94</td>\n",
       "    </tr>\n",
       "    <tr>\n",
       "      <th>2</th>\n",
       "      <td>5000</td>\n",
       "      <td>5000</td>\n",
       "      <td>36 months</td>\n",
       "      <td>D</td>\n",
       "      <td>Administrative</td>\n",
       "      <td>6 years</td>\n",
       "      <td>17.97</td>\n",
       "    </tr>\n",
       "    <tr>\n",
       "      <th>3</th>\n",
       "      <td>4000</td>\n",
       "      <td>4000</td>\n",
       "      <td>36 months</td>\n",
       "      <td>D</td>\n",
       "      <td>IT Supervisor</td>\n",
       "      <td>10+ years</td>\n",
       "      <td>18.94</td>\n",
       "    </tr>\n",
       "    <tr>\n",
       "      <th>4</th>\n",
       "      <td>30000</td>\n",
       "      <td>30000</td>\n",
       "      <td>60 months</td>\n",
       "      <td>C</td>\n",
       "      <td>Mechanic</td>\n",
       "      <td>10+ years</td>\n",
       "      <td>16.14</td>\n",
       "    </tr>\n",
       "    <tr>\n",
       "      <th>5</th>\n",
       "      <td>5550</td>\n",
       "      <td>5550</td>\n",
       "      <td>36 months</td>\n",
       "      <td>C</td>\n",
       "      <td>Director COE</td>\n",
       "      <td>10+ years</td>\n",
       "      <td>15.02</td>\n",
       "    </tr>\n",
       "    <tr>\n",
       "      <th>6</th>\n",
       "      <td>2000</td>\n",
       "      <td>2000</td>\n",
       "      <td>36 months</td>\n",
       "      <td>D</td>\n",
       "      <td>Account Manager</td>\n",
       "      <td>4 years</td>\n",
       "      <td>17.97</td>\n",
       "    </tr>\n",
       "    <tr>\n",
       "      <th>7</th>\n",
       "      <td>6000</td>\n",
       "      <td>6000</td>\n",
       "      <td>36 months</td>\n",
       "      <td>C</td>\n",
       "      <td>Assistant Director</td>\n",
       "      <td>10+ years</td>\n",
       "      <td>13.56</td>\n",
       "    </tr>\n",
       "    <tr>\n",
       "      <th>8</th>\n",
       "      <td>5000</td>\n",
       "      <td>5000</td>\n",
       "      <td>36 months</td>\n",
       "      <td>D</td>\n",
       "      <td>Legal Assistant III</td>\n",
       "      <td>10+ years</td>\n",
       "      <td>17.97</td>\n",
       "    </tr>\n",
       "    <tr>\n",
       "      <th>11</th>\n",
       "      <td>28000</td>\n",
       "      <td>28000</td>\n",
       "      <td>60 months</td>\n",
       "      <td>B</td>\n",
       "      <td>Consultant</td>\n",
       "      <td>2 years</td>\n",
       "      <td>11.31</td>\n",
       "    </tr>\n",
       "  </tbody>\n",
       "</table>\n",
       "</div>"
      ],
      "text/plain": [
       "    loan_amnt  funded_amnt        term grade            emp_title emp_length  \\\n",
       "0        2500         2500   36 months     C                 Chef  10+ years   \n",
       "1       30000        30000   60 months     D          Postmaster   10+ years   \n",
       "2        5000         5000   36 months     D       Administrative    6 years   \n",
       "3        4000         4000   36 months     D        IT Supervisor  10+ years   \n",
       "4       30000        30000   60 months     C             Mechanic  10+ years   \n",
       "5        5550         5550   36 months     C         Director COE  10+ years   \n",
       "6        2000         2000   36 months     D      Account Manager    4 years   \n",
       "7        6000         6000   36 months     C   Assistant Director  10+ years   \n",
       "8        5000         5000   36 months     D  Legal Assistant III  10+ years   \n",
       "11      28000        28000   60 months     B           Consultant    2 years   \n",
       "\n",
       "    int_rate  \n",
       "0      13.56  \n",
       "1      18.94  \n",
       "2      17.97  \n",
       "3      18.94  \n",
       "4      16.14  \n",
       "5      15.02  \n",
       "6      17.97  \n",
       "7      13.56  \n",
       "8      17.97  \n",
       "11     11.31  "
      ]
     },
     "execution_count": 21,
     "metadata": {},
     "output_type": "execute_result"
    }
   ],
   "source": [
    "df2[:10]"
   ]
  },
  {
   "cell_type": "code",
   "execution_count": 9,
   "metadata": {},
   "outputs": [
    {
     "data": {
      "text/plain": [
       "(83463, 7)"
      ]
     },
     "execution_count": 9,
     "metadata": {},
     "output_type": "execute_result"
    }
   ],
   "source": [
    "# we have lost quite a few data points\n",
    "df2.shape"
   ]
  },
  {
   "cell_type": "code",
   "execution_count": 10,
   "metadata": {},
   "outputs": [],
   "source": [
    "# but we're going to use even less examples\n",
    "df2 = df2[:num_examples]"
   ]
  },
  {
   "cell_type": "markdown",
   "metadata": {},
   "source": [
    "## Producing training and test data"
   ]
  },
  {
   "cell_type": "code",
   "execution_count": 11,
   "metadata": {},
   "outputs": [
    {
     "data": {
      "text/plain": [
       "array([13.56, 18.94, 17.97, 18.94, 16.14, 15.02, 17.97, 13.56, 17.97,\n",
       "       11.31])"
      ]
     },
     "execution_count": 11,
     "metadata": {},
     "output_type": "execute_result"
    }
   ],
   "source": [
    "y = df2.loc[:, 'int_rate'].values\n",
    "y[:10]"
   ]
  },
  {
   "cell_type": "code",
   "execution_count": 12,
   "metadata": {},
   "outputs": [
    {
     "data": {
      "text/plain": [
       "(30000,)"
      ]
     },
     "execution_count": 12,
     "metadata": {},
     "output_type": "execute_result"
    }
   ],
   "source": [
    "y.shape"
   ]
  },
  {
   "cell_type": "markdown",
   "metadata": {},
   "source": [
    "### Encoding the features"
   ]
  },
  {
   "cell_type": "code",
   "execution_count": 18,
   "metadata": {},
   "outputs": [],
   "source": [
    "X_raw = ({'loan_amnt': loan_amnt,\n",
    "          'funded_amnt': funded_amnt,\n",
    "          'term': term,\n",
    "          'grade': grade,\n",
    "          'emp_title': emp_title,\n",
    "          'emp_length': emp_length}\n",
    "         for loan_amnt, funded_amnt, term, grade, emp_title, emp_length in\n",
    "         df2.loc[:, ['loan_amnt', 'funded_amnt', 'term', 'grade', 'emp_title', 'emp_length']].values)"
   ]
  },
  {
   "cell_type": "code",
   "execution_count": 19,
   "metadata": {},
   "outputs": [
    {
     "data": {
      "text/plain": [
       "{'loan_amnt': 2500,\n",
       " 'funded_amnt': 2500,\n",
       " 'term': ' 36 months',\n",
       " 'grade': 'C',\n",
       " 'emp_title': 'Chef',\n",
       " 'emp_length': '10+ years'}"
      ]
     },
     "execution_count": 19,
     "metadata": {},
     "output_type": "execute_result"
    }
   ],
   "source": [
    "next(X_raw)"
   ]
  },
  {
   "cell_type": "code",
   "execution_count": 20,
   "metadata": {},
   "outputs": [],
   "source": [
    "# we have to do it again as we've consumed one data point from the generator above\n",
    "X_raw = ({'loan_amnt': loan_amnt,\n",
    "          'funded_amnt': funded_amnt,\n",
    "          'term': term,\n",
    "          'grade': grade,\n",
    "          'emp_title': emp_title,\n",
    "          'emp_length': emp_length}\n",
    "         for loan_amnt, funded_amnt, term, grade, emp_title, emp_length in\n",
    "         df2.loc[:, ['loan_amnt', 'funded_amnt', 'term', 'grade', 'emp_title', 'emp_length']].values)"
   ]
  },
  {
   "cell_type": "code",
   "execution_count": 21,
   "metadata": {},
   "outputs": [],
   "source": [
    "vectorizer = DictVectorizer()"
   ]
  },
  {
   "cell_type": "code",
   "execution_count": 22,
   "metadata": {},
   "outputs": [],
   "source": [
    "X = vectorizer.fit_transform(X_raw)"
   ]
  },
  {
   "cell_type": "code",
   "execution_count": 23,
   "metadata": {},
   "outputs": [
    {
     "data": {
      "text/plain": [
       "<30000x15347 sparse matrix of type '<class 'numpy.float64'>'\n",
       "\twith 180000 stored elements in Compressed Sparse Row format>"
      ]
     },
     "execution_count": 23,
     "metadata": {},
     "output_type": "execute_result"
    }
   ],
   "source": [
    "X"
   ]
  },
  {
   "cell_type": "code",
   "execution_count": 25,
   "metadata": {},
   "outputs": [
    {
     "data": {
      "text/plain": [
       "array([[0.0e+00, 1.0e+00, 0.0e+00, ..., 2.5e+03, 1.0e+00, 0.0e+00]])"
      ]
     },
     "execution_count": 25,
     "metadata": {},
     "output_type": "execute_result"
    }
   ],
   "source": [
    "X[0].toarray()"
   ]
  },
  {
   "cell_type": "code",
   "execution_count": 26,
   "metadata": {},
   "outputs": [],
   "source": [
    "X_train, X_test, y_train, y_test = train_test_split(X, y, test_size=0.1, shuffle=True)"
   ]
  },
  {
   "cell_type": "code",
   "execution_count": 27,
   "metadata": {},
   "outputs": [
    {
     "data": {
      "text/plain": [
       "((27000, 15347), (27000,))"
      ]
     },
     "execution_count": 27,
     "metadata": {},
     "output_type": "execute_result"
    }
   ],
   "source": [
    "X_train.shape, y_train.shape"
   ]
  },
  {
   "cell_type": "markdown",
   "metadata": {},
   "source": [
    "## Building the model and training"
   ]
  },
  {
   "cell_type": "code",
   "execution_count": 28,
   "metadata": {},
   "outputs": [],
   "source": [
    "X_train = X_train.toarray()\n",
    "X_test = X_test.toarray()"
   ]
  },
  {
   "cell_type": "code",
   "execution_count": 29,
   "metadata": {},
   "outputs": [],
   "source": [
    "model = tf.keras.models.Sequential([\n",
    "    tf.keras.layers.Dense(40, activation=tf.keras.activations.relu),\n",
    "    tf.keras.layers.Dense(40, activation=tf.keras.activations.relu),\n",
    "    tf.keras.layers.Dense(1) # we don't have an activation here as we're doing regression\n",
    "])"
   ]
  },
  {
   "cell_type": "markdown",
   "metadata": {},
   "source": [
    "$\\operatorname {MSE} ={\\frac {1}{n}}\\sum _{i=1}^{n}(y_{i}-{\\hat {y_{i}}})^{2}$\n",
    "\n",
    "$\\mathrm {MAE} ={\\frac {\\sum _{i=1}^{n}\\left|y_{i}-\\hat {y_{i}}\\right|}{n}}$"
   ]
  },
  {
   "cell_type": "code",
   "execution_count": 30,
   "metadata": {},
   "outputs": [],
   "source": [
    "model.compile(optimizer=tf.keras.optimizers.Adam(0.0001),\n",
    "              loss='mean_squared_error',\n",
    "              metrics=['mean_squared_error', 'mean_absolute_error'])"
   ]
  },
  {
   "cell_type": "code",
   "execution_count": 31,
   "metadata": {},
   "outputs": [
    {
     "name": "stdout",
     "output_type": "stream",
     "text": [
      "Train on 24300 samples, validate on 2700 samples\n",
      "Epoch 1/50\n",
      "24300/24300 [==============================] - 9s 385us/step - loss: 80.6873 - mean_squared_error: 80.6873 - mean_absolute_error: 7.1099 - val_loss: 69.6840 - val_mean_squared_error: 69.6840 - val_mean_absolute_error: 6.5924\n",
      "Epoch 2/50\n",
      "24300/24300 [==============================] - 9s 351us/step - loss: 69.6816 - mean_squared_error: 69.6816 - mean_absolute_error: 6.6628 - val_loss: 63.3295 - val_mean_squared_error: 63.3295 - val_mean_absolute_error: 6.3523\n",
      "Epoch 3/50\n",
      "24300/24300 [==============================] - 7s 283us/step - loss: 65.9719 - mean_squared_error: 65.9719 - mean_absolute_error: 6.4452 - val_loss: 60.1593 - val_mean_squared_error: 60.1593 - val_mean_absolute_error: 6.0485\n",
      "Epoch 4/50\n",
      "24300/24300 [==============================] - 7s 280us/step - loss: 60.0910 - mean_squared_error: 60.0910 - mean_absolute_error: 6.1119 - val_loss: 57.4683 - val_mean_squared_error: 57.4683 - val_mean_absolute_error: 6.0091\n",
      "Epoch 5/50\n",
      "24300/24300 [==============================] - 7s 275us/step - loss: 55.1565 - mean_squared_error: 55.1565 - mean_absolute_error: 5.8346 - val_loss: 49.2195 - val_mean_squared_error: 49.2195 - val_mean_absolute_error: 5.4174\n",
      "Epoch 6/50\n",
      "24300/24300 [==============================] - 7s 269us/step - loss: 49.9890 - mean_squared_error: 49.9890 - mean_absolute_error: 5.4938 - val_loss: 53.6077 - val_mean_squared_error: 53.6077 - val_mean_absolute_error: 5.8063\n",
      "Epoch 7/50\n",
      "24300/24300 [==============================] - 7s 276us/step - loss: 45.1443 - mean_squared_error: 45.1443 - mean_absolute_error: 5.1768 - val_loss: 45.2208 - val_mean_squared_error: 45.2208 - val_mean_absolute_error: 5.2040\n",
      "Epoch 8/50\n",
      "24300/24300 [==============================] - 7s 278us/step - loss: 40.2990 - mean_squared_error: 40.2990 - mean_absolute_error: 4.8458 - val_loss: 33.5053 - val_mean_squared_error: 33.5053 - val_mean_absolute_error: 4.3439\n",
      "Epoch 9/50\n",
      "24300/24300 [==============================] - 7s 278us/step - loss: 35.6247 - mean_squared_error: 35.6247 - mean_absolute_error: 4.4887 - val_loss: 31.5889 - val_mean_squared_error: 31.5889 - val_mean_absolute_error: 4.1455\n",
      "Epoch 10/50\n",
      "24300/24300 [==============================] - 7s 304us/step - loss: 31.4648 - mean_squared_error: 31.4648 - mean_absolute_error: 4.1722 - val_loss: 31.4910 - val_mean_squared_error: 31.4910 - val_mean_absolute_error: 4.1325\n",
      "Epoch 11/50\n",
      "24300/24300 [==============================] - 7s 281us/step - loss: 26.5563 - mean_squared_error: 26.5563 - mean_absolute_error: 3.7656 - val_loss: 20.8805 - val_mean_squared_error: 20.8805 - val_mean_absolute_error: 3.2814\n",
      "Epoch 12/50\n",
      "24300/24300 [==============================] - 7s 278us/step - loss: 22.6828 - mean_squared_error: 22.6828 - mean_absolute_error: 3.4159 - val_loss: 31.2240 - val_mean_squared_error: 31.2240 - val_mean_absolute_error: 4.2867\n",
      "Epoch 13/50\n",
      "24300/24300 [==============================] - 7s 289us/step - loss: 19.2012 - mean_squared_error: 19.2012 - mean_absolute_error: 3.0955 - val_loss: 25.4097 - val_mean_squared_error: 25.4097 - val_mean_absolute_error: 3.7472\n",
      "Epoch 14/50\n",
      "24300/24300 [==============================] - 8s 312us/step - loss: 16.9127 - mean_squared_error: 16.9127 - mean_absolute_error: 2.8740 - val_loss: 15.5110 - val_mean_squared_error: 15.5110 - val_mean_absolute_error: 2.5890\n",
      "Epoch 15/50\n",
      "24300/24300 [==============================] - 10s 417us/step - loss: 15.1709 - mean_squared_error: 15.1709 - mean_absolute_error: 2.7142 - val_loss: 11.9491 - val_mean_squared_error: 11.9491 - val_mean_absolute_error: 2.5922\n",
      "Epoch 16/50\n",
      "24300/24300 [==============================] - 8s 331us/step - loss: 13.1414 - mean_squared_error: 13.1414 - mean_absolute_error: 2.4909 - val_loss: 18.8297 - val_mean_squared_error: 18.8297 - val_mean_absolute_error: 3.5283\n",
      "Epoch 17/50\n",
      "24300/24300 [==============================] - 7s 293us/step - loss: 10.9624 - mean_squared_error: 10.9624 - mean_absolute_error: 2.2889 - val_loss: 11.5445 - val_mean_squared_error: 11.5445 - val_mean_absolute_error: 2.7245\n",
      "Epoch 18/50\n",
      "24300/24300 [==============================] - 7s 271us/step - loss: 9.6860 - mean_squared_error: 9.6860 - mean_absolute_error: 2.1574 - val_loss: 11.2052 - val_mean_squared_error: 11.2052 - val_mean_absolute_error: 2.7284\n",
      "Epoch 19/50\n",
      "24300/24300 [==============================] - 7s 275us/step - loss: 8.9263 - mean_squared_error: 8.9263 - mean_absolute_error: 2.0791 - val_loss: 8.4750 - val_mean_squared_error: 8.4750 - val_mean_absolute_error: 1.9204\n",
      "Epoch 20/50\n",
      "24300/24300 [==============================] - 7s 295us/step - loss: 7.3984 - mean_squared_error: 7.3984 - mean_absolute_error: 1.8706 - val_loss: 5.7384 - val_mean_squared_error: 5.7384 - val_mean_absolute_error: 1.7798\n",
      "Epoch 21/50\n",
      "24300/24300 [==============================] - 7s 275us/step - loss: 7.4888 - mean_squared_error: 7.4888 - mean_absolute_error: 1.8753 - val_loss: 4.5403 - val_mean_squared_error: 4.5403 - val_mean_absolute_error: 1.3859\n",
      "Epoch 22/50\n",
      "24300/24300 [==============================] - 7s 279us/step - loss: 6.2291 - mean_squared_error: 6.2291 - mean_absolute_error: 1.7231 - val_loss: 4.1865 - val_mean_squared_error: 4.1865 - val_mean_absolute_error: 1.2964\n",
      "Epoch 23/50\n",
      "24300/24300 [==============================] - 7s 291us/step - loss: 5.4253 - mean_squared_error: 5.4253 - mean_absolute_error: 1.5992 - val_loss: 3.6320 - val_mean_squared_error: 3.6320 - val_mean_absolute_error: 1.2400\n",
      "Epoch 24/50\n",
      "24300/24300 [==============================] - 7s 278us/step - loss: 5.3607 - mean_squared_error: 5.3607 - mean_absolute_error: 1.6141 - val_loss: 28.8962 - val_mean_squared_error: 28.8962 - val_mean_absolute_error: 4.3026\n",
      "Epoch 25/50\n",
      "24300/24300 [==============================] - 7s 281us/step - loss: 5.4205 - mean_squared_error: 5.4205 - mean_absolute_error: 1.6376 - val_loss: 4.2149 - val_mean_squared_error: 4.2149 - val_mean_absolute_error: 1.3483\n",
      "Epoch 26/50\n",
      "24300/24300 [==============================] - 7s 302us/step - loss: 4.5797 - mean_squared_error: 4.5797 - mean_absolute_error: 1.5109 - val_loss: 3.2606 - val_mean_squared_error: 3.2606 - val_mean_absolute_error: 1.2019\n",
      "Epoch 27/50\n",
      "24300/24300 [==============================] - 7s 289us/step - loss: 4.2145 - mean_squared_error: 4.2145 - mean_absolute_error: 1.4525 - val_loss: 3.3239 - val_mean_squared_error: 3.3239 - val_mean_absolute_error: 1.4156\n",
      "Epoch 28/50\n",
      "24300/24300 [==============================] - 7s 273us/step - loss: 3.7632 - mean_squared_error: 3.7632 - mean_absolute_error: 1.3982 - val_loss: 4.2467 - val_mean_squared_error: 4.2467 - val_mean_absolute_error: 1.4942\n",
      "Epoch 29/50\n",
      "24300/24300 [==============================] - 7s 293us/step - loss: 4.2776 - mean_squared_error: 4.2776 - mean_absolute_error: 1.4757 - val_loss: 17.9971 - val_mean_squared_error: 17.9971 - val_mean_absolute_error: 3.5625\n",
      "Epoch 30/50\n",
      "24300/24300 [==============================] - 7s 282us/step - loss: 3.8075 - mean_squared_error: 3.8075 - mean_absolute_error: 1.4163 - val_loss: 4.9788 - val_mean_squared_error: 4.9788 - val_mean_absolute_error: 1.8243\n",
      "Epoch 31/50\n",
      "24300/24300 [==============================] - 7s 288us/step - loss: 2.9231 - mean_squared_error: 2.9231 - mean_absolute_error: 1.2594 - val_loss: 2.1718 - val_mean_squared_error: 2.1718 - val_mean_absolute_error: 1.0719\n",
      "Epoch 32/50\n",
      "24300/24300 [==============================] - 7s 276us/step - loss: 3.5155 - mean_squared_error: 3.5155 - mean_absolute_error: 1.3623 - val_loss: 1.7858 - val_mean_squared_error: 1.7858 - val_mean_absolute_error: 1.0304\n",
      "Epoch 33/50\n",
      "24300/24300 [==============================] - 7s 276us/step - loss: 3.9929 - mean_squared_error: 3.9929 - mean_absolute_error: 1.4221 - val_loss: 1.7605 - val_mean_squared_error: 1.7605 - val_mean_absolute_error: 1.0274\n",
      "Epoch 34/50\n",
      "24300/24300 [==============================] - 7s 285us/step - loss: 2.7141 - mean_squared_error: 2.7141 - mean_absolute_error: 1.2158 - val_loss: 1.7693 - val_mean_squared_error: 1.7693 - val_mean_absolute_error: 0.9939\n",
      "Epoch 35/50\n",
      "24300/24300 [==============================] - 7s 288us/step - loss: 3.1130 - mean_squared_error: 3.1130 - mean_absolute_error: 1.3055 - val_loss: 2.5574 - val_mean_squared_error: 2.5574 - val_mean_absolute_error: 1.2868\n"
     ]
    },
    {
     "name": "stdout",
     "output_type": "stream",
     "text": [
      "Epoch 36/50\n",
      "24300/24300 [==============================] - 6s 266us/step - loss: 2.1352 - mean_squared_error: 2.1352 - mean_absolute_error: 1.0900 - val_loss: 9.1898 - val_mean_squared_error: 9.1898 - val_mean_absolute_error: 2.4749\n",
      "Epoch 37/50\n",
      "24300/24300 [==============================] - 6s 267us/step - loss: 2.9868 - mean_squared_error: 2.9868 - mean_absolute_error: 1.2465 - val_loss: 1.5488 - val_mean_squared_error: 1.5488 - val_mean_absolute_error: 0.9484\n",
      "Epoch 38/50\n",
      "24300/24300 [==============================] - 6s 267us/step - loss: 2.3539 - mean_squared_error: 2.3539 - mean_absolute_error: 1.1264 - val_loss: 1.7523 - val_mean_squared_error: 1.7523 - val_mean_absolute_error: 1.0103\n",
      "Epoch 39/50\n",
      "24300/24300 [==============================] - 7s 269us/step - loss: 2.2671 - mean_squared_error: 2.2671 - mean_absolute_error: 1.1284 - val_loss: 1.5375 - val_mean_squared_error: 1.5375 - val_mean_absolute_error: 1.0005\n",
      "Epoch 40/50\n",
      "24300/24300 [==============================] - 6s 264us/step - loss: 2.1623 - mean_squared_error: 2.1623 - mean_absolute_error: 1.0950 - val_loss: 12.4399 - val_mean_squared_error: 12.4399 - val_mean_absolute_error: 2.9440\n",
      "Epoch 41/50\n",
      "24300/24300 [==============================] - 7s 276us/step - loss: 2.8691 - mean_squared_error: 2.8691 - mean_absolute_error: 1.2455 - val_loss: 3.9719 - val_mean_squared_error: 3.9719 - val_mean_absolute_error: 1.5548\n",
      "Epoch 42/50\n",
      "24300/24300 [==============================] - 7s 268us/step - loss: 2.3603 - mean_squared_error: 2.3603 - mean_absolute_error: 1.1567 - val_loss: 2.4173 - val_mean_squared_error: 2.4173 - val_mean_absolute_error: 1.2678\n",
      "Epoch 43/50\n",
      "24300/24300 [==============================] - 7s 271us/step - loss: 2.3419 - mean_squared_error: 2.3419 - mean_absolute_error: 1.1250 - val_loss: 2.7826 - val_mean_squared_error: 2.7826 - val_mean_absolute_error: 1.3584\n",
      "Epoch 44/50\n",
      "24300/24300 [==============================] - 6s 266us/step - loss: 2.0933 - mean_squared_error: 2.0933 - mean_absolute_error: 1.0908 - val_loss: 2.2021 - val_mean_squared_error: 2.2021 - val_mean_absolute_error: 1.1325\n",
      "Epoch 45/50\n",
      "24300/24300 [==============================] - 7s 271us/step - loss: 2.5584 - mean_squared_error: 2.5584 - mean_absolute_error: 1.1664 - val_loss: 2.5102 - val_mean_squared_error: 2.5102 - val_mean_absolute_error: 1.2918\n",
      "Epoch 46/50\n",
      "24300/24300 [==============================] - 7s 279us/step - loss: 2.8513 - mean_squared_error: 2.8513 - mean_absolute_error: 1.2285 - val_loss: 3.8111 - val_mean_squared_error: 3.8111 - val_mean_absolute_error: 1.5414\n",
      "Epoch 47/50\n",
      "24300/24300 [==============================] - 7s 274us/step - loss: 1.9583 - mean_squared_error: 1.9583 - mean_absolute_error: 1.0563 - val_loss: 1.4256 - val_mean_squared_error: 1.4256 - val_mean_absolute_error: 0.9411\n",
      "Epoch 48/50\n",
      "24300/24300 [==============================] - 7s 270us/step - loss: 2.2749 - mean_squared_error: 2.2749 - mean_absolute_error: 1.1158 - val_loss: 2.1767 - val_mean_squared_error: 2.1767 - val_mean_absolute_error: 1.2066\n",
      "Epoch 49/50\n",
      "24300/24300 [==============================] - 7s 288us/step - loss: 2.1767 - mean_squared_error: 2.1767 - mean_absolute_error: 1.0805 - val_loss: 2.4009 - val_mean_squared_error: 2.4009 - val_mean_absolute_error: 1.2647\n",
      "Epoch 50/50\n",
      "24300/24300 [==============================] - 7s 281us/step - loss: 2.3701 - mean_squared_error: 2.3701 - mean_absolute_error: 1.1452 - val_loss: 1.8571 - val_mean_squared_error: 1.8571 - val_mean_absolute_error: 1.0399\n"
     ]
    },
    {
     "data": {
      "text/plain": [
       "<tensorflow.python.keras.callbacks.History at 0x1a3003a940>"
      ]
     },
     "execution_count": 31,
     "metadata": {},
     "output_type": "execute_result"
    }
   ],
   "source": [
    "model.fit(X_train, y_train, epochs=50, validation_split=0.1)"
   ]
  },
  {
   "cell_type": "code",
   "execution_count": 32,
   "metadata": {},
   "outputs": [
    {
     "name": "stdout",
     "output_type": "stream",
     "text": [
      "3000/3000 [==============================] - 1s 243us/step\n"
     ]
    },
    {
     "data": {
      "text/plain": [
       "[1.791646253267924, 1.791646253267924, 1.0323849862416585]"
      ]
     },
     "execution_count": 32,
     "metadata": {},
     "output_type": "execute_result"
    }
   ],
   "source": [
    "model.evaluate(X_test, y_test)"
   ]
  },
  {
   "cell_type": "markdown",
   "metadata": {},
   "source": [
    "# try:\n",
    "1. other features\n",
    "2. different neural network architectures\n",
    "3. more data points\n",
    "4. different problems (for example, is a loan good or bad?)"
   ]
  },
  {
   "cell_type": "code",
   "execution_count": null,
   "metadata": {},
   "outputs": [],
   "source": []
  }
 ],
 "metadata": {
  "kernelspec": {
   "display_name": "Python 3",
   "language": "python",
   "name": "python3"
  },
  "language_info": {
   "codemirror_mode": {
    "name": "ipython",
    "version": 3
   },
   "file_extension": ".py",
   "mimetype": "text/x-python",
   "name": "python",
   "nbconvert_exporter": "python",
   "pygments_lexer": "ipython3",
   "version": "3.6.8"
  }
 },
 "nbformat": 4,
 "nbformat_minor": 2
}
