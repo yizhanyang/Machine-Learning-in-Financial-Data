{
 "cells": [
  {
   "cell_type": "code",
   "execution_count": null,
   "metadata": {
    "colab": {},
    "colab_type": "code",
    "id": "JD9Zae5oD2oc"
   },
   "outputs": [],
   "source": [
    "import datetime\n",
    "import numpy as np\n",
    "import pandas as pd\n",
    "from sklearn.preprocessing import MinMaxScaler\n",
    "from sklearn.model_selection import train_test_split\n",
    "import tensorflow as tf\n",
    "import matplotlib.pyplot as plt\n",
    "from google.colab import drive\n",
    "%matplotlib inline"
   ]
  },
  {
   "cell_type": "markdown",
   "metadata": {
    "colab_type": "text",
    "id": "6ygcs63KD2om"
   },
   "source": [
    "# RNNs, GRUs, and LSTMs"
   ]
  },
  {
   "cell_type": "markdown",
   "metadata": {
    "colab_type": "text",
    "id": "AFz6X8mMD2oo"
   },
   "source": [
    "## RNNs"
   ]
  },
  {
   "cell_type": "markdown",
   "metadata": {
    "colab_type": "text",
    "id": "cmRRS2G_D2oq"
   },
   "source": [
    "![title](Recurrent_neural_network_unfold.png)\n",
    "\n",
    "RNN equations:\n",
    "\n",
    "$h_t = tanh(Vh_{t-1} + Ux_t + b_h)$\n",
    "\n",
    "$o_t = sigmoid(Wh_t + b_o)$\n",
    "\n",
    "![title](Recurrent_Unit.png)"
   ]
  },
  {
   "cell_type": "markdown",
   "metadata": {
    "colab_type": "text",
    "id": "Iw5x2xE0D2os"
   },
   "source": [
    "## GRUs\n",
    "https://en.wikipedia.org/wiki/Gated_recurrent_unit\n",
    "\n",
    "\n",
    "$\\begin{aligned}z_{t}&=sigmoid(W_{z}x_{t}+U_{z}h_{t-1}+b_{z})\\\\r_{t}&=sigmoid(W_{r}x_{t}+U_{r}h_{t-1}+b_{r})\\\\h_{t}&=(1-z_{t})\\circ h_{t-1}+z_{t}\\circ tanh(W_{h}x_{t}+U_{h}(r_{t}\\circ h_{t-1})+b_{h})\\end{aligned}$\n",
    "\n",
    "![title](Gated_Recurrent_Unit,_base_type.png)"
   ]
  },
  {
   "cell_type": "markdown",
   "metadata": {
    "colab_type": "text",
    "id": "EQwSH2VpD2ot"
   },
   "source": [
    "## LSTMs\n",
    "\n",
    "https://en.wikipedia.org/wiki/Long_short-term_memory\n",
    "\n",
    "${\\begin{aligned}f_{t}&=sigmoid(W_{f}x_{t}+U_{f}h_{t-1}+b_{f})\\\\i_{t}&=sigmoid(W_{i}x_{t}+U_{i}h_{t-1}+b_{i})\\\\o_{t}&=sigmoid(W_{o}x_{t}+U_{o}h_{t-1}+b_{o})\\\\c_{t}&=f_{t}\\circ c_{t-1}+i_{t}\\circ tanh(W_{c}x_{t}+U_{c}h_{t-1}+b_{c})\\\\h_{t}&=o_{t}\\circ c_{t}\\end{aligned}}$\n",
    "\n",
    "![title](The_LSTM_cell.png)"
   ]
  },
  {
   "cell_type": "markdown",
   "metadata": {
    "colab_type": "text",
    "id": "t1_5n4jcD2ou"
   },
   "source": [
    "# Predicting bitcoin prices from data of the [bitstamp](https://www.bitstamp.net/) exchange\n",
    "The dataset has very good, 1 minute resolution. We're going to predict the daily price."
   ]
  },
  {
   "cell_type": "markdown",
   "metadata": {
    "colab_type": "text",
    "id": "hAFXKRikEFzd"
   },
   "source": [
    "## Look at GPU"
   ]
  },
  {
   "cell_type": "code",
   "execution_count": null,
   "metadata": {
    "colab": {
     "base_uri": "https://localhost:8080/",
     "height": 321
    },
    "colab_type": "code",
    "id": "5_XqbrI1EJFz",
    "outputId": "1a7c7f0c-f971-43c1-b5da-b208c0b6bfe2"
   },
   "outputs": [],
   "source": [
    "!nvidia-smi"
   ]
  },
  {
   "cell_type": "markdown",
   "metadata": {
    "colab_type": "text",
    "id": "-T28ZaT8D5ir"
   },
   "source": [
    "## Set up Google Drive for colab"
   ]
  },
  {
   "cell_type": "code",
   "execution_count": null,
   "metadata": {
    "colab": {
     "base_uri": "https://localhost:8080/",
     "height": 35
    },
    "colab_type": "code",
    "id": "KxEcKhjFETQr",
    "outputId": "330a129b-b54e-4edb-8b7c-df7de952a918"
   },
   "outputs": [],
   "source": [
    "drive.mount('/content/drive')"
   ]
  },
  {
   "cell_type": "code",
   "execution_count": null,
   "metadata": {
    "colab": {
     "base_uri": "https://localhost:8080/",
     "height": 35
    },
    "colab_type": "code",
    "id": "JD72RA0MEieJ",
    "outputId": "b2ef20b4-76c2-4bcf-bc32-ead4cd88cf99"
   },
   "outputs": [],
   "source": [
    "!pwd"
   ]
  },
  {
   "cell_type": "code",
   "execution_count": null,
   "metadata": {
    "colab": {
     "base_uri": "https://localhost:8080/",
     "height": 35
    },
    "colab_type": "code",
    "id": "wzPCsdN7EcHP",
    "outputId": "f62aed26-b498-4428-f899-7db9bd147059"
   },
   "outputs": [],
   "source": [
    "!ls drive/My\\ Drive/summer_school"
   ]
  },
  {
   "cell_type": "code",
   "execution_count": null,
   "metadata": {
    "colab": {
     "base_uri": "https://localhost:8080/",
     "height": 35
    },
    "colab_type": "code",
    "id": "Ujs-NG4iEtRx",
    "outputId": "62986a4b-f1fb-4f29-f4d5-a3ff3727e686"
   },
   "outputs": [],
   "source": [
    "!ls /content/drive/My\\ Drive/summer_school/bitstampUSD_1-min_data_2012-01-01_to_2019-03-13_tail.csv"
   ]
  },
  {
   "cell_type": "code",
   "execution_count": null,
   "metadata": {
    "colab": {},
    "colab_type": "code",
    "id": "5oB7z2sBD2ow"
   },
   "outputs": [],
   "source": [
    "df = pd.read_csv('/content/drive/My Drive/summer_school/bitstampUSD_1-min_data_2012-01-01_to_2019-03-13_tail.csv', parse_dates=True,\n",
    "                 date_parser=lambda x: datetime.datetime.fromtimestamp(int(x)))"
   ]
  },
  {
   "cell_type": "code",
   "execution_count": null,
   "metadata": {
    "colab": {
     "base_uri": "https://localhost:8080/",
     "height": 35
    },
    "colab_type": "code",
    "id": "VhOBWDxMD2o1",
    "outputId": "37e1e3f8-074c-4e63-a83c-5b3deb6caa6b"
   },
   "outputs": [],
   "source": [
    "df.shape"
   ]
  },
  {
   "cell_type": "code",
   "execution_count": null,
   "metadata": {
    "colab": {
     "base_uri": "https://localhost:8080/",
     "height": 206
    },
    "colab_type": "code",
    "id": "lxc3ocFbD2o8",
    "outputId": "fccd2b4f-50cc-4b69-f918-98029f1f50ee"
   },
   "outputs": [],
   "source": [
    "df.head()"
   ]
  },
  {
   "cell_type": "code",
   "execution_count": null,
   "metadata": {
    "colab": {
     "base_uri": "https://localhost:8080/",
     "height": 206
    },
    "colab_type": "code",
    "id": "BS45r1YOD2pE",
    "outputId": "529047e6-7a99-41ab-8a2d-2e94f29daab4"
   },
   "outputs": [],
   "source": [
    "df.tail()"
   ]
  },
  {
   "cell_type": "markdown",
   "metadata": {
    "colab_type": "text",
    "id": "dxVGa_YRD2pL"
   },
   "source": [
    "### Fill NAs"
   ]
  },
  {
   "cell_type": "code",
   "execution_count": null,
   "metadata": {
    "colab": {},
    "colab_type": "code",
    "id": "_X-f_d-nD2pM"
   },
   "outputs": [],
   "source": [
    "# we won't fill NA-s here as we take the mean for each day\n",
    "# df = df[['Timestamp', 'Open', 'High', 'Low', 'Close']].fillna(method='ffill')"
   ]
  },
  {
   "cell_type": "markdown",
   "metadata": {
    "colab_type": "text",
    "id": "X9u0S-wOD2pR"
   },
   "source": [
    "### Add dates"
   ]
  },
  {
   "cell_type": "code",
   "execution_count": null,
   "metadata": {
    "colab": {},
    "colab_type": "code",
    "id": "nKRDtrWtD2pT"
   },
   "outputs": [],
   "source": [
    "df['date'] = pd.to_datetime(df['Timestamp'],unit='s').dt.date"
   ]
  },
  {
   "cell_type": "code",
   "execution_count": null,
   "metadata": {
    "colab": {
     "base_uri": "https://localhost:8080/",
     "height": 206
    },
    "colab_type": "code",
    "id": "B1UShlAcD2pc",
    "outputId": "36195591-9749-4ed8-fee7-aac5fc1c4d63"
   },
   "outputs": [],
   "source": [
    "df.tail()"
   ]
  },
  {
   "cell_type": "markdown",
   "metadata": {
    "colab_type": "text",
    "id": "QyEcFzT_D2pf"
   },
   "source": [
    "## Compute daily price"
   ]
  },
  {
   "cell_type": "code",
   "execution_count": null,
   "metadata": {
    "colab": {},
    "colab_type": "code",
    "id": "tAXKfVesD2pi"
   },
   "outputs": [],
   "source": [
    "# group by date\n",
    "grouped_by_date = df.groupby('date')"
   ]
  },
  {
   "cell_type": "code",
   "execution_count": null,
   "metadata": {
    "colab": {},
    "colab_type": "code",
    "id": "Z-jkQcqCD2pl"
   },
   "outputs": [],
   "source": [
    "# take the mean price on each day\n",
    "df = grouped_by_date.mean()"
   ]
  },
  {
   "cell_type": "code",
   "execution_count": null,
   "metadata": {
    "colab": {
     "base_uri": "https://localhost:8080/",
     "height": 1000
    },
    "colab_type": "code",
    "id": "nC7Q1tunD2pp",
    "outputId": "d9a04bd2-1d49-41db-fa78-0a92a5c329ed"
   },
   "outputs": [],
   "source": [
    "df"
   ]
  },
  {
   "cell_type": "code",
   "execution_count": null,
   "metadata": {
    "colab": {
     "base_uri": "https://localhost:8080/",
     "height": 35
    },
    "colab_type": "code",
    "id": "vJKc2h2aD2pu",
    "outputId": "d4c223ab-83eb-4454-b35a-07510832e993"
   },
   "outputs": [],
   "source": [
    "# are there any missing values?\n",
    "df.isna().any().any()"
   ]
  },
  {
   "cell_type": "markdown",
   "metadata": {
    "colab_type": "text",
    "id": "bAIljdbuD2py"
   },
   "source": [
    "## Look at closing prices"
   ]
  },
  {
   "cell_type": "code",
   "execution_count": null,
   "metadata": {
    "colab": {
     "base_uri": "https://localhost:8080/",
     "height": 0
    },
    "colab_type": "code",
    "id": "njWSDLVeD2pz",
    "outputId": "eb68321f-c624-4402-d121-a65510712605"
   },
   "outputs": [],
   "source": [
    "df['Close'].plot(figsize=(20, 10))"
   ]
  },
  {
   "cell_type": "markdown",
   "metadata": {
    "colab_type": "text",
    "id": "hKudZYazD2p4"
   },
   "source": [
    "## Process data for LSTM\n",
    "We're going to predict the closing prices one timestep into the future.\n",
    "For this, first we extract the closing prices, then we concatenate it with itself shifted one timestep into the future. These will be the training and test examples.\n",
    "Then we're going to scale the elements of the time series to lie into the interval (-1, 1)."
   ]
  },
  {
   "cell_type": "code",
   "execution_count": null,
   "metadata": {
    "colab": {
     "base_uri": "https://localhost:8080/",
     "height": 0
    },
    "colab_type": "code",
    "id": "6IePQgdQD2p5",
    "outputId": "4d14b5c2-b8d3-4958-ad26-acf0507cc7a4"
   },
   "outputs": [],
   "source": [
    "close = df.loc[:, 'Close']\n",
    "close.head()"
   ]
  },
  {
   "cell_type": "code",
   "execution_count": null,
   "metadata": {
    "colab": {
     "base_uri": "https://localhost:8080/",
     "height": 0
    },
    "colab_type": "code",
    "id": "8xrAe6vdD2qC",
    "outputId": "7bbdc44c-fbc8-4483-db49-72d46bedfff0"
   },
   "outputs": [],
   "source": [
    "examples = pd.concat((close, close.shift(-1)), axis=1)\n",
    "examples.head()"
   ]
  },
  {
   "cell_type": "code",
   "execution_count": null,
   "metadata": {
    "colab": {
     "base_uri": "https://localhost:8080/",
     "height": 0
    },
    "colab_type": "code",
    "id": "poLVcXytD2qL",
    "outputId": "e8790566-3022-4f58-db3f-cb2c2968db25"
   },
   "outputs": [],
   "source": [
    "examples.tail()"
   ]
  },
  {
   "cell_type": "code",
   "execution_count": null,
   "metadata": {
    "colab": {},
    "colab_type": "code",
    "id": "tvH8ble1D2qR"
   },
   "outputs": [],
   "source": [
    "# remove the trailing NaN\n",
    "examples = examples[:-1]"
   ]
  },
  {
   "cell_type": "code",
   "execution_count": null,
   "metadata": {
    "colab": {
     "base_uri": "https://localhost:8080/",
     "height": 0
    },
    "colab_type": "code",
    "id": "7RRYn7qSD2qU",
    "outputId": "3aeaf76c-8b64-444b-a212-e8581536d6ab"
   },
   "outputs": [],
   "source": [
    "examples.tail()"
   ]
  },
  {
   "cell_type": "code",
   "execution_count": null,
   "metadata": {
    "colab": {
     "base_uri": "https://localhost:8080/",
     "height": 0
    },
    "colab_type": "code",
    "id": "uJgnbeQXD2qd",
    "outputId": "68615588-aa36-48a4-9123-bcaf3fb6b9e8"
   },
   "outputs": [],
   "source": [
    "examples.iloc[:5, 0].values"
   ]
  },
  {
   "cell_type": "code",
   "execution_count": null,
   "metadata": {
    "colab": {
     "base_uri": "https://localhost:8080/",
     "height": 0
    },
    "colab_type": "code",
    "id": "aT-GpdmzD2qg",
    "outputId": "c394720f-35fc-46ba-8766-122af5833d9f"
   },
   "outputs": [],
   "source": [
    "examples.shape"
   ]
  },
  {
   "cell_type": "code",
   "execution_count": null,
   "metadata": {
    "colab": {
     "base_uri": "https://localhost:8080/",
     "height": 0
    },
    "colab_type": "code",
    "id": "GkIlZ-pdD2ql",
    "outputId": "f1a888a6-951c-419f-c180-6a8a682cf4e3"
   },
   "outputs": [],
   "source": [
    "# we don't shuffle the data to preserve the time order\n",
    "num_train = int(examples.shape[0]*0.9)\n",
    "print(\"Number of training examples: {}\".format(num_train))\n",
    "train = examples[:num_train].values\n",
    "test = examples[num_train:].values"
   ]
  },
  {
   "cell_type": "code",
   "execution_count": null,
   "metadata": {
    "colab": {},
    "colab_type": "code",
    "id": "jRIhzUaSD2qq"
   },
   "outputs": [],
   "source": [
    "scaler = MinMaxScaler(feature_range=(-1, 1))\n",
    "# it is important to fit the scaler only on the training examples so we don't get information about the test examples\n",
    "train = scaler.fit_transform(train)\n",
    "test = scaler.transform(test)"
   ]
  },
  {
   "cell_type": "code",
   "execution_count": null,
   "metadata": {
    "colab": {
     "base_uri": "https://localhost:8080/",
     "height": 0
    },
    "colab_type": "code",
    "id": "tAcNqQETD2qv",
    "outputId": "be87f85d-014d-44a9-c870-24fe567fdb6b"
   },
   "outputs": [],
   "source": [
    "test[:5]"
   ]
  },
  {
   "cell_type": "code",
   "execution_count": null,
   "metadata": {
    "colab": {},
    "colab_type": "code",
    "id": "nEZcGcTdD2q1"
   },
   "outputs": [],
   "source": [
    "X_train, y_train = train[:, 0], train[:, 1]\n",
    "X_test, y_test = test[:, 0], test[:, 1]"
   ]
  },
  {
   "cell_type": "code",
   "execution_count": null,
   "metadata": {
    "colab": {
     "base_uri": "https://localhost:8080/",
     "height": 0
    },
    "colab_type": "code",
    "id": "YQ97BOgSD2q3",
    "outputId": "4b44ee04-a144-4bac-c1fa-d4f348e2d725"
   },
   "outputs": [],
   "source": [
    "X_train[:5], y_train[:5]"
   ]
  },
  {
   "cell_type": "markdown",
   "metadata": {
    "colab_type": "text",
    "id": "lilWeB9BD2q8"
   },
   "source": [
    "## Build and train LSTM model"
   ]
  },
  {
   "cell_type": "code",
   "execution_count": null,
   "metadata": {
    "colab": {
     "base_uri": "https://localhost:8080/",
     "height": 108
    },
    "colab_type": "code",
    "id": "aVD1Cn9kD2q9",
    "outputId": "9ddbc0f5-6ee9-435a-d933-db7c965c86b3"
   },
   "outputs": [],
   "source": [
    "batch_size = 64\n",
    "model = tf.keras.models.Sequential([\n",
    "    tf.keras.layers.LSTM(16, batch_input_shape=[batch_size, 1, 1], stateful=True),\n",
    "    tf.keras.layers.Dense(1) # we don't have an activation here as we're doing regression\n",
    "])"
   ]
  },
  {
   "cell_type": "code",
   "execution_count": null,
   "metadata": {
    "colab": {},
    "colab_type": "code",
    "id": "IVdWmgvWD2q_"
   },
   "outputs": [],
   "source": [
    "model.compile(optimizer=tf.keras.optimizers.Adam(0.001),\n",
    "              loss='mean_squared_error',\n",
    "              metrics=['mean_squared_error', 'mean_absolute_error'])"
   ]
  },
  {
   "cell_type": "code",
   "execution_count": null,
   "metadata": {
    "colab": {},
    "colab_type": "code",
    "id": "Hi73eae-D2rC"
   },
   "outputs": [],
   "source": [
    "# the batch_size has to divide into the number of examples\n",
    "num_batches = X_train.shape[0] // batch_size\n",
    "X_train = X_train[:num_batches*batch_size]\n",
    "y_train = y_train[:num_batches*batch_size]"
   ]
  },
  {
   "cell_type": "code",
   "execution_count": null,
   "metadata": {
    "colab": {},
    "colab_type": "code",
    "id": "_vqPLaQBD2rG"
   },
   "outputs": [],
   "source": [
    "X_train = X_train.reshape((X_train.shape[0], 1, 1))"
   ]
  },
  {
   "cell_type": "code",
   "execution_count": null,
   "metadata": {
    "colab": {
     "base_uri": "https://localhost:8080/",
     "height": 35
    },
    "colab_type": "code",
    "id": "7pP9ZJZaD2rJ",
    "outputId": "28e04506-c267-4419-db4e-f0fe8845562d"
   },
   "outputs": [],
   "source": [
    "X_train.shape"
   ]
  },
  {
   "cell_type": "code",
   "execution_count": null,
   "metadata": {
    "colab": {
     "base_uri": "https://localhost:8080/",
     "height": 1000
    },
    "colab_type": "code",
    "id": "vgpq1UKOD2rL",
    "outputId": "1a15a76d-46c2-4a21-d235-195b91703f79",
    "scrolled": true
   },
   "outputs": [],
   "source": [
    "# important: shuffle=False as the data points are in time order\n",
    "# important: reset the states between epochs, as the time series restarts from the beginning\n",
    "num_epochs = 200\n",
    "for epoch in range(num_epochs):\n",
    "    model.fit(X_train, y_train, epochs=1, shuffle=False)\n",
    "    model.reset_states()"
   ]
  },
  {
   "cell_type": "code",
   "execution_count": null,
   "metadata": {
    "colab": {},
    "colab_type": "code",
    "id": "xBiC8A7rD2rR"
   },
   "outputs": [],
   "source": [
    "X_test = X_test.reshape((X_test.shape[0], 1, 1))\n",
    "num_batches = X_test.shape[0] // batch_size\n",
    "X_test = X_test[:num_batches*batch_size]\n",
    "y_test = y_test[:num_batches*batch_size]"
   ]
  },
  {
   "cell_type": "code",
   "execution_count": null,
   "metadata": {
    "colab": {
     "base_uri": "https://localhost:8080/",
     "height": 53
    },
    "colab_type": "code",
    "id": "KdsIKH-TD2rS",
    "outputId": "6d1b77e6-17b9-4cc2-ebad-d48a1e773fb7"
   },
   "outputs": [],
   "source": [
    "model.evaluate(X_test, y_test)"
   ]
  },
  {
   "cell_type": "markdown",
   "metadata": {
    "colab_type": "text",
    "id": "uHAXTjB_D2rZ"
   },
   "source": [
    "## Evaluate the results"
   ]
  },
  {
   "cell_type": "code",
   "execution_count": null,
   "metadata": {
    "colab": {},
    "colab_type": "code",
    "id": "NRb25X-qD2ra"
   },
   "outputs": [],
   "source": [
    "predictions = model.predict(X_test).squeeze()\n",
    "results = pd.DataFrame(scaler.inverse_transform(np.array([y_test.squeeze(), predictions]).T), columns = ['ground truth', 'prediction'])"
   ]
  },
  {
   "cell_type": "code",
   "execution_count": null,
   "metadata": {
    "colab": {
     "base_uri": "https://localhost:8080/",
     "height": 613
    },
    "colab_type": "code",
    "id": "RtxxqBGSD2re",
    "outputId": "49dd5da6-aed2-4374-8241-d85f8dce7dca"
   },
   "outputs": [],
   "source": [
    "results.plot(figsize=(20, 10))"
   ]
  },
  {
   "cell_type": "code",
   "execution_count": null,
   "metadata": {
    "colab": {
     "base_uri": "https://localhost:8080/",
     "height": 613
    },
    "colab_type": "code",
    "id": "EXKs5Wf1D2rh",
    "outputId": "e9072b64-62c2-40e4-e394-d26f47b862f8"
   },
   "outputs": [],
   "source": [
    "results.diff(1).plot(figsize=(20, 10))"
   ]
  },
  {
   "cell_type": "code",
   "execution_count": null,
   "metadata": {
    "colab": {
     "base_uri": "https://localhost:8080/",
     "height": 639
    },
    "colab_type": "code",
    "id": "rx0vJwowD2rj",
    "outputId": "cbaf2373-a6b9-45bd-eaa5-7ee414873dd7"
   },
   "outputs": [],
   "source": [
    "fig, ax = plt.subplots(1, 2, figsize=(20, 10))\n",
    "ax[0].scatter(results.iloc[:, 0], results.iloc[:, 1])\n",
    "ax[0].set_title('ground truth vs predictions')\n",
    "ax[0].set_xlabel('ground truth')\n",
    "ax[0].set_ylabel('predictions')\n",
    "ax[1].scatter(results.iloc[:, 0].shift(1), results.iloc[:, 1])\n",
    "ax[1].set_title('ground truth vs shifted predictions')\n",
    "ax[1].set_xlabel('ground truth')\n",
    "ax[1].set_ylabel('shifted predictions')"
   ]
  },
  {
   "cell_type": "code",
   "execution_count": null,
   "metadata": {
    "colab": {},
    "colab_type": "code",
    "id": "U7YS_qInD2rk"
   },
   "outputs": [],
   "source": []
  }
 ],
 "metadata": {
  "accelerator": "GPU",
  "colab": {
   "collapsed_sections": [
    "QyEcFzT_D2pf",
    "bAIljdbuD2py",
    "hKudZYazD2p4"
   ],
   "name": "08 - RNNs, predicting bitcoin prices - colab.ipynb",
   "provenance": [],
   "version": "0.3.2"
  },
  "kernelspec": {
   "display_name": "Python 3",
   "language": "python",
   "name": "python3"
  },
  "language_info": {
   "codemirror_mode": {
    "name": "ipython",
    "version": 3
   },
   "file_extension": ".py",
   "mimetype": "text/x-python",
   "name": "python",
   "nbconvert_exporter": "python",
   "pygments_lexer": "ipython3",
   "version": "3.7.3"
  }
 },
 "nbformat": 4,
 "nbformat_minor": 1
}
